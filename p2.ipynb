{
 "cells": [
  {
   "cell_type": "code",
   "execution_count": null,
   "metadata": {},
   "outputs": [],
   "source": [
    "# Library installation commands\n",
    "# !pip install pandas\n",
    "# !pip install kaggle"
   ]
  },
  {
   "cell_type": "code",
   "execution_count": null,
   "metadata": {},
   "outputs": [],
   "source": [
    "import pandas as pd\n",
    "import kaggle\n",
    "import zipfile"
   ]
  },
  {
   "cell_type": "code",
   "execution_count": null,
   "metadata": {},
   "outputs": [],
   "source": [
    "# kaggle api to download dataset\n",
    "!kaggle datasets download -d saadharoon27/diwali-sales-dataset"
   ]
  },
  {
   "cell_type": "code",
   "execution_count": null,
   "metadata": {},
   "outputs": [],
   "source": [
    "# to extract files from downloaded zip file\n",
    "zipfile_name = 'diwali-sales-dataset.zip'\n",
    "with zipfile.ZipFile(zipfile_name, 'r') as file:\n",
    "    file.extractall()"
   ]
  },
  {
   "cell_type": "code",
   "execution_count": null,
   "metadata": {},
   "outputs": [],
   "source": [
    "# to avoide encoding error use \"encoding='unicode_escape'\"\n",
    "df = pd.read_csv('Diwali Sales Data.csv',encoding='unicode_escape')\n",
    "\n",
    "# to import file from different folder use below format\n",
    "# df = pd.read_csv(r'C:\\Data Analytics Projects\\Python DA\\P2\\Diwali Sales Data.csv',encoding='unicode_escape')"
   ]
  },
  {
   "cell_type": "markdown",
   "metadata": {},
   "source": [
    "# DATA CLEANING"
   ]
  },
  {
   "cell_type": "code",
   "execution_count": null,
   "metadata": {},
   "outputs": [],
   "source": [
    "# to get summary of data\n",
    "print(df.info())"
   ]
  },
  {
   "cell_type": "code",
   "execution_count": null,
   "metadata": {},
   "outputs": [],
   "source": [
    "# to rename a column\n",
    "df.rename(columns = {'Age Group':'Age_Group'}, inplace = True)"
   ]
  },
  {
   "cell_type": "code",
   "execution_count": null,
   "metadata": {},
   "outputs": [],
   "source": [
    "# to get total number of rows and columns\n",
    "print(df.shape)"
   ]
  },
  {
   "cell_type": "code",
   "execution_count": null,
   "metadata": {},
   "outputs": [],
   "source": [
    "# sample data from dataset\n",
    "print(df.head())"
   ]
  },
  {
   "cell_type": "code",
   "execution_count": null,
   "metadata": {},
   "outputs": [],
   "source": [
    "# to find all unique values and their counts in a column\n",
    "print(df.User_ID.value_counts(),\"\\n\")\n",
    "print(df.Product_ID.value_counts(),\"\\n\")\n",
    "print(df.Product_Category.value_counts(),\"\\n\")\n",
    "print(df.Age_Group.value_counts(),\"\\n\")\n",
    "print(df.Zone.value_counts(),\"\\n\")\n",
    "print(df.Occupation.value_counts(),\"\\n\")\n",
    "print(df.Gender.value_counts(),\"\\n\")\n",
    "print(df.Marital_Status.value_counts(),\"\\n\")\n",
    "print(df.Orders.value_counts(),\"\\n\")"
   ]
  },
  {
   "cell_type": "code",
   "execution_count": null,
   "metadata": {},
   "outputs": [],
   "source": [
    "# to remove unwanted columns\n",
    "df.drop(['Status','unnamed1'], axis=1, inplace=True)"
   ]
  },
  {
   "cell_type": "code",
   "execution_count": null,
   "metadata": {},
   "outputs": [],
   "source": [
    "# to check if columns contain null values\n",
    "pd.isnull(df).sum()"
   ]
  },
  {
   "cell_type": "code",
   "execution_count": null,
   "metadata": {},
   "outputs": [],
   "source": [
    "# to drop null values\n",
    "df.dropna(inplace=True)"
   ]
  },
  {
   "cell_type": "code",
   "execution_count": null,
   "metadata": {},
   "outputs": [],
   "source": [
    "# to change data type of a column\n",
    "df['Amount'] = df['Amount'].astype('int32')"
   ]
  },
  {
   "cell_type": "code",
   "execution_count": null,
   "metadata": {},
   "outputs": [],
   "source": [
    "# to export the cleaned dataset as csv file\n",
    "df.to_excel('Cleaned_Diwali_Sale_Data.xlsx',sheet_name = 'Data')"
   ]
  },
  {
   "cell_type": "code",
   "execution_count": null,
   "metadata": {},
   "outputs": [],
   "source": [
    "# to get a statictical summary of dataset\n",
    "df[['Age','Orders','Amount']].describe()"
   ]
  },
  {
   "cell_type": "code",
   "execution_count": null,
   "metadata": {},
   "outputs": [],
   "source": [
    "# to replace values in a column\n",
    "df.loc[df[\"Gender\"] == \"M\", \"Gender\"] = \"Male\"\n",
    "df.loc[df[\"Gender\"] == \"F\", \"Gender\"] = \"Female\"\n",
    "df.loc[df[\"Marital_Status\"] == 1, \"Marital_Status\"] = \"Single\"\n",
    "df.loc[df[\"Marital_Status\"] == 0, \"Marital_Status\"] = \"Married\"\n",
    "df"
   ]
  },
  {
   "cell_type": "markdown",
   "metadata": {},
   "source": [
    "# DATA EXPLORATION"
   ]
  },
  {
   "cell_type": "code",
   "execution_count": null,
   "metadata": {},
   "outputs": [],
   "source": [
    "import matplotlib.pyplot as ptl\n",
    "import numpy as np"
   ]
  },
  {
   "cell_type": "markdown",
   "metadata": {},
   "source": [
    "Q - Find the amount of orders and the revenue generated as per gender ?"
   ]
  },
  {
   "cell_type": "code",
   "execution_count": null,
   "metadata": {},
   "outputs": [],
   "source": [
    "gender_revenue = df.groupby(['Gender'], as_index=False).agg({'Amount':'sum','Orders':'sum'}).sort_values(by = 'Amount',ascending=False)\n",
    "gender_revenue"
   ]
  },
  {
   "cell_type": "code",
   "execution_count": null,
   "metadata": {},
   "outputs": [],
   "source": [
    "# Pie Chart for Revenue\n",
    "ptl.title(\"Revenue as per Gender\")\n",
    "ptl.pie(gender_revenue['Amount'], labels=gender_revenue['Gender'], autopct='%.2f %%', explode=[0,0.1], pctdistance=0.5)\n",
    "ptl.show()\n",
    "# Pie Chart for Orders\n",
    "ptl.title(\"Orders as per Gender\")\n",
    "ptl.pie(gender_revenue['Orders'], labels=gender_revenue['Gender'], autopct='%.2f %%', explode=[0,0.1], pctdistance=0.5)\n",
    "ptl.show()"
   ]
  },
  {
   "cell_type": "markdown",
   "metadata": {},
   "source": [
    "Q - Find the amount of orders and the revenue generated as per marital status ?"
   ]
  },
  {
   "cell_type": "code",
   "execution_count": null,
   "metadata": {},
   "outputs": [],
   "source": [
    "status_revenue = df.groupby(['Marital_Status'], as_index=False).agg({'Amount':'sum','Orders':'sum'})\n",
    "status_revenue"
   ]
  },
  {
   "cell_type": "code",
   "execution_count": null,
   "metadata": {},
   "outputs": [],
   "source": [
    "# Pie Chart for Revenue\n",
    "ptl.title(\"Revenue generated by Couples V/S Singles\")\n",
    "ptl.pie(status_revenue['Amount'], labels=status_revenue['Marital_Status'], autopct='%.2f %%', explode=[0,0.1], pctdistance=0.5)\n",
    "ptl.show()\n",
    "# Pie Chart for Orders\n",
    "ptl.title(\"Orders placed by Couples V/S Singles\")\n",
    "ptl.pie(status_revenue['Orders'], labels=status_revenue['Marital_Status'], autopct='%.2f %%', explode=[0,0.1], pctdistance=0.5)\n",
    "ptl.show()"
   ]
  },
  {
   "cell_type": "markdown",
   "metadata": {},
   "source": [
    "Q - Find the amount of orders and the revenue generated as per Zones ?"
   ]
  },
  {
   "cell_type": "code",
   "execution_count": null,
   "metadata": {},
   "outputs": [],
   "source": [
    "zone_revenue = df.groupby(['Zone'], as_index=False).agg({'Amount':'sum','Orders':'sum'})\n",
    "zone_revenue"
   ]
  },
  {
   "cell_type": "code",
   "execution_count": null,
   "metadata": {},
   "outputs": [],
   "source": [
    "# Bar Chart for Revenue\n",
    "ptl.title(\"Revenue as per Zones\")\n",
    "ptl.bar(zone_revenue['Zone'],zone_revenue['Amount'])\n",
    "ptl.show()\n",
    "# Bar Chart for Orders\n",
    "ptl.title(\"Revenue as per Zones\")\n",
    "ptl.bar(zone_revenue['Zone'],zone_revenue['Orders'])\n",
    "ptl.show()"
   ]
  },
  {
   "cell_type": "markdown",
   "metadata": {},
   "source": [
    "Q - Find the amount of orders and the revenue generated as per Age ?"
   ]
  },
  {
   "cell_type": "code",
   "execution_count": null,
   "metadata": {},
   "outputs": [],
   "source": [
    "age_revenue = df.groupby(['Age_Group'], as_index=False).agg({'Amount':'sum','Age':'count','Orders':'sum'})\n",
    "age_revenue"
   ]
  },
  {
   "cell_type": "code",
   "execution_count": null,
   "metadata": {},
   "outputs": [],
   "source": [
    "# Scatter Chart for Revenue\n",
    "ptl.title(\"Revenue as per Age\")\n",
    "ptl.scatter(age_revenue['Age_Group'], age_revenue['Amount'],s=age_revenue['Age'])\n",
    "ptl.show()\n",
    "# Scatter Chart for Orders\n",
    "ptl.title(\"Revenue as per Age\")\n",
    "ptl.scatter(age_revenue['Age_Group'], age_revenue['Amount'],s=age_revenue['Orders'])\n",
    "ptl.show()"
   ]
  },
  {
   "cell_type": "markdown",
   "metadata": {},
   "source": [
    "Q - Find the amount of orders and the revenue generated as per Product Category ?"
   ]
  },
  {
   "cell_type": "code",
   "execution_count": null,
   "metadata": {},
   "outputs": [],
   "source": [
    "product_revenue = df.groupby(['Product_Category'], as_index=False).agg({'Amount':'sum','Orders':'sum'})\n",
    "product_revenue"
   ]
  },
  {
   "cell_type": "code",
   "execution_count": null,
   "metadata": {},
   "outputs": [],
   "source": [
    "# Line Chart for Amount\n",
    "ptl.title(\"Revenue as per Product\")\n",
    "ptl.plot(product_revenue['Product_Category'], product_revenue['Amount'],'g.-')\n",
    "ptl.xticks(rotation = 90)\n",
    "ptl.show()\n",
    "# Line Chart for Orders\n",
    "ptl.title(\"Revenue as per Product\")\n",
    "ptl.plot(product_revenue['Product_Category'], product_revenue['Orders'],'b.-')\n",
    "ptl.xticks(rotation = 90)\n",
    "ptl.show()"
   ]
  },
  {
   "cell_type": "markdown",
   "metadata": {},
   "source": [
    "Q - Find the revenue generated as per people's occupation ?"
   ]
  },
  {
   "cell_type": "code",
   "execution_count": null,
   "metadata": {},
   "outputs": [],
   "source": [
    "occupation_revenue = df.groupby(['Occupation'], as_index=False).agg({'Amount':'sum','Orders':'sum'})\n",
    "occupation_revenue"
   ]
  },
  {
   "cell_type": "code",
   "execution_count": null,
   "metadata": {},
   "outputs": [],
   "source": [
    "ptl.title(\"Revenue as per People's Occupation\")\n",
    "ptl.scatter(occupation_revenue['Occupation'],occupation_revenue['Amount'],s=occupation_revenue['Orders'])\n",
    "ptl.xticks(rotation = 90)\n",
    "ptl.show()"
   ]
  },
  {
   "cell_type": "markdown",
   "metadata": {},
   "source": [
    "Q - Find the amount of orders and the revenue generated as per State ?"
   ]
  },
  {
   "cell_type": "code",
   "execution_count": null,
   "metadata": {},
   "outputs": [],
   "source": [
    "# !pip install plotly"
   ]
  },
  {
   "cell_type": "code",
   "execution_count": null,
   "metadata": {},
   "outputs": [],
   "source": [
    "import json\n",
    "import plotly.express as px\n",
    "import plotly.io as pio\n",
    "pio.renderers.default = 'vscode'   # default connection"
   ]
  },
  {
   "cell_type": "code",
   "execution_count": null,
   "metadata": {},
   "outputs": [],
   "source": [
    "india_states = json.load(open(\"C:\\Data Analytics Projects\\Python DA\\P2\\states_india.geojson\",'r'))\n",
    "# india_states\n",
    "india_states['features'][0]"
   ]
  },
  {
   "cell_type": "code",
   "execution_count": null,
   "metadata": {},
   "outputs": [],
   "source": [
    "# creating dictionary to store state name and code\n",
    "state_id = {}\n",
    "for f in india_states ['features']:\n",
    "    f['id'] = f['properties']['state_code']\n",
    "    state_id[f['properties']['st_nm']] = f['id']\n",
    "# renaming to match state name in dataset\n",
    "state_id['Delhi'] = state_id['NCT of Delhi']\n",
    "del state_id['NCT of Delhi']\n",
    "state_id"
   ]
  },
  {
   "cell_type": "code",
   "execution_count": null,
   "metadata": {},
   "outputs": [],
   "source": [
    "# renaming state name to match dictionary \n",
    "df.loc[df[\"State\"] == \"Andhra\\xa0Pradesh\", \"State\"] = \"Andhra Pradesh\"\n",
    "df['State'].unique()"
   ]
  },
  {
   "cell_type": "code",
   "execution_count": null,
   "metadata": {},
   "outputs": [],
   "source": [
    "# creating a new column and mapping it with State name column\n",
    "df['state_id'] = df['State'].apply(lambda x : state_id[x])\n",
    "df"
   ]
  },
  {
   "cell_type": "code",
   "execution_count": null,
   "metadata": {},
   "outputs": [],
   "source": [
    "state_info = df.groupby(['State','state_id'], as_index=False).agg({'Amount':'sum','Orders':'sum'})\n",
    "state_info"
   ]
  },
  {
   "cell_type": "code",
   "execution_count": null,
   "metadata": {},
   "outputs": [],
   "source": [
    "fig = px.choropleth(state_info, \n",
    "                    locations='state_id', \n",
    "                    geojson=india_states, \n",
    "                    color='Orders', \n",
    "                    hover_name ='State',\n",
    "                    hover_data = ['Amount','Orders'])\n",
    "fig.update_geos(fitbounds=\"locations\", visible=False, showcountries=True)\n",
    "fig.show()\n"
   ]
  }
 ],
 "metadata": {
  "kernelspec": {
   "display_name": "Python 3",
   "language": "python",
   "name": "python3"
  },
  "language_info": {
   "codemirror_mode": {
    "name": "ipython",
    "version": 3
   },
   "file_extension": ".py",
   "mimetype": "text/x-python",
   "name": "python",
   "nbconvert_exporter": "python",
   "pygments_lexer": "ipython3",
   "version": "3.11.2"
  }
 },
 "nbformat": 4,
 "nbformat_minor": 2
}
